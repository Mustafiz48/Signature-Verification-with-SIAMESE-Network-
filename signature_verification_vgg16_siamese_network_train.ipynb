{
  "cells": [
    {
      "cell_type": "code",
      "execution_count": 1,
      "metadata": {
        "colab": {
          "base_uri": "https://localhost:8080/"
        },
        "id": "Ur3O53OJiYNX",
        "outputId": "47df2594-6254-4275-b031-f28e6ad468fc"
      },
      "outputs": [
        {
          "name": "stdout",
          "output_type": "stream",
          "text": [
            "Mounted at /content/drive\n"
          ]
        }
      ],
      "source": [
        "from google.colab import drive\n",
        "drive.mount('/content/drive')"
      ]
    },
    {
      "cell_type": "code",
      "execution_count": 2,
      "metadata": {
        "id": "iltPmiNgjk5z"
      },
      "outputs": [],
      "source": [
        "!cp -r \"/content/drive/MyDrive/signature_verification_dataset/sign_data\" -d \"/content/\""
      ]
    },
    {
      "cell_type": "code",
      "execution_count": 3,
      "metadata": {
        "id": "O18NeVleR_mD"
      },
      "outputs": [],
      "source": [
        "!cp -r \"/content/drive/MyDrive/signature_verification_dataset/my_model.h5\" -d \"/content/\""
      ]
    },
    {
      "cell_type": "code",
      "execution_count": 4,
      "metadata": {
        "execution": {
          "iopub.execute_input": "2023-01-09T05:52:30.317911Z",
          "iopub.status.busy": "2023-01-09T05:52:30.317268Z",
          "iopub.status.idle": "2023-01-09T05:52:30.531649Z",
          "shell.execute_reply": "2023-01-09T05:52:30.530699Z",
          "shell.execute_reply.started": "2023-01-09T05:52:30.317794Z"
        },
        "id": "fLmPguTykAbU",
        "trusted": true
      },
      "outputs": [],
      "source": [
        "import os\n",
        "import sys\n",
        "import math\n",
        "\n",
        "import numpy as np\n",
        "import pandas as pd\n",
        "from PIL import Image\n",
        "from pathlib import Path\n",
        "import matplotlib.pyplot as plt"
      ]
    },
    {
      "cell_type": "code",
      "execution_count": null,
      "metadata": {
        "id": "EYRpYkINjmhe"
      },
      "outputs": [],
      "source": [
        "import tensorflow as tf\n",
        "import tensorflow.keras.backend as K\n",
        "\n",
        "from tensorflow.keras import Input\n",
        "from tensorflow.keras.layers import Lambda\n",
        "from tensorflow.keras.optimizers import Adam\n",
        "from tensorflow.keras.utils import Sequence\n",
        "\n",
        "from keras.preprocessing import image\n",
        "from keras.models import Sequential, Model\n",
        "from keras.layers import Dense, Dropout, Flatten\n",
        "from keras.applications.vgg16 import VGG16, preprocess_input\n",
        "\n",
        "from keras.preprocessing.image import ImageDataGenerator\n"
      ]
    },
    {
      "cell_type": "code",
      "execution_count": 7,
      "metadata": {
        "execution": {
          "iopub.execute_input": "2023-01-09T05:52:40.791263Z",
          "iopub.status.busy": "2023-01-09T05:52:40.790901Z",
          "iopub.status.idle": "2023-01-09T05:52:40.857973Z",
          "shell.execute_reply": "2023-01-09T05:52:40.857038Z",
          "shell.execute_reply.started": "2023-01-09T05:52:40.791233Z"
        },
        "id": "VQi8Z4j0kgJh",
        "trusted": true
      },
      "outputs": [],
      "source": [
        "train_df = pd.read_csv(\"/content/sign_data/train_data.csv\")\n",
        "test_df = pd.read_csv(\"/content/sign_data/test_data.csv\")\n"
      ]
    },
    {
      "cell_type": "code",
      "execution_count": 8,
      "metadata": {
        "execution": {
          "iopub.execute_input": "2023-01-09T05:52:42.818464Z",
          "iopub.status.busy": "2023-01-09T05:52:42.818099Z",
          "iopub.status.idle": "2023-01-09T05:52:42.823684Z",
          "shell.execute_reply": "2023-01-09T05:52:42.822412Z",
          "shell.execute_reply.started": "2023-01-09T05:52:42.818434Z"
        },
        "id": "lczDyBZLkrnM",
        "trusted": true
      },
      "outputs": [],
      "source": [
        "train_df.columns =[\"img1\",\"img2\",\"similar\"]\n",
        "test_df.columns =[\"img1\",\"img2\",\"similar\"]"
      ]
    },
    {
      "cell_type": "code",
      "execution_count": 9,
      "metadata": {
        "colab": {
          "base_uri": "https://localhost:8080/",
          "height": 424
        },
        "execution": {
          "iopub.execute_input": "2023-01-09T05:52:47.931452Z",
          "iopub.status.busy": "2023-01-09T05:52:47.931077Z",
          "iopub.status.idle": "2023-01-09T05:52:47.955466Z",
          "shell.execute_reply": "2023-01-09T05:52:47.953949Z",
          "shell.execute_reply.started": "2023-01-09T05:52:47.931421Z"
        },
        "id": "8amS9-FDlW5W",
        "outputId": "2d03352e-e607-4c22-dc7e-7f14d1a2ccc5",
        "trusted": true
      },
      "outputs": [
        {
          "data": {
            "text/html": [
              "\n",
              "  <div id=\"df-bcf8ea14-49d8-474d-99fd-9485b9153969\">\n",
              "    <div class=\"colab-df-container\">\n",
              "      <div>\n",
              "<style scoped>\n",
              "    .dataframe tbody tr th:only-of-type {\n",
              "        vertical-align: middle;\n",
              "    }\n",
              "\n",
              "    .dataframe tbody tr th {\n",
              "        vertical-align: top;\n",
              "    }\n",
              "\n",
              "    .dataframe thead th {\n",
              "        text-align: right;\n",
              "    }\n",
              "</style>\n",
              "<table border=\"1\" class=\"dataframe\">\n",
              "  <thead>\n",
              "    <tr style=\"text-align: right;\">\n",
              "      <th></th>\n",
              "      <th>img1</th>\n",
              "      <th>img2</th>\n",
              "      <th>similar</th>\n",
              "    </tr>\n",
              "  </thead>\n",
              "  <tbody>\n",
              "    <tr>\n",
              "      <th>0</th>\n",
              "      <td>068/09_068.png</td>\n",
              "      <td>068_forg/01_0124068.PNG</td>\n",
              "      <td>1</td>\n",
              "    </tr>\n",
              "    <tr>\n",
              "      <th>1</th>\n",
              "      <td>068/09_068.png</td>\n",
              "      <td>068_forg/02_0124068.PNG</td>\n",
              "      <td>1</td>\n",
              "    </tr>\n",
              "    <tr>\n",
              "      <th>2</th>\n",
              "      <td>068/09_068.png</td>\n",
              "      <td>068_forg/01_0113068.PNG</td>\n",
              "      <td>1</td>\n",
              "    </tr>\n",
              "    <tr>\n",
              "      <th>3</th>\n",
              "      <td>068/09_068.png</td>\n",
              "      <td>068_forg/04_0124068.PNG</td>\n",
              "      <td>1</td>\n",
              "    </tr>\n",
              "    <tr>\n",
              "      <th>4</th>\n",
              "      <td>068/09_068.png</td>\n",
              "      <td>068_forg/04_0113068.PNG</td>\n",
              "      <td>1</td>\n",
              "    </tr>\n",
              "    <tr>\n",
              "      <th>...</th>\n",
              "      <td>...</td>\n",
              "      <td>...</td>\n",
              "      <td>...</td>\n",
              "    </tr>\n",
              "    <tr>\n",
              "      <th>23200</th>\n",
              "      <td>031/02_031.png</td>\n",
              "      <td>031/03_031.png</td>\n",
              "      <td>0</td>\n",
              "    </tr>\n",
              "    <tr>\n",
              "      <th>23201</th>\n",
              "      <td>031/02_031.png</td>\n",
              "      <td>031/12_031.png</td>\n",
              "      <td>0</td>\n",
              "    </tr>\n",
              "    <tr>\n",
              "      <th>23202</th>\n",
              "      <td>031/02_031.png</td>\n",
              "      <td>031/11_031.png</td>\n",
              "      <td>0</td>\n",
              "    </tr>\n",
              "    <tr>\n",
              "      <th>23203</th>\n",
              "      <td>031/02_031.png</td>\n",
              "      <td>031/06_031.png</td>\n",
              "      <td>0</td>\n",
              "    </tr>\n",
              "    <tr>\n",
              "      <th>23204</th>\n",
              "      <td>031/02_031.png</td>\n",
              "      <td>031/07_031.png</td>\n",
              "      <td>0</td>\n",
              "    </tr>\n",
              "  </tbody>\n",
              "</table>\n",
              "<p>23205 rows × 3 columns</p>\n",
              "</div>\n",
              "      <button class=\"colab-df-convert\" onclick=\"convertToInteractive('df-bcf8ea14-49d8-474d-99fd-9485b9153969')\"\n",
              "              title=\"Convert this dataframe to an interactive table.\"\n",
              "              style=\"display:none;\">\n",
              "        \n",
              "  <svg xmlns=\"http://www.w3.org/2000/svg\" height=\"24px\"viewBox=\"0 0 24 24\"\n",
              "       width=\"24px\">\n",
              "    <path d=\"M0 0h24v24H0V0z\" fill=\"none\"/>\n",
              "    <path d=\"M18.56 5.44l.94 2.06.94-2.06 2.06-.94-2.06-.94-.94-2.06-.94 2.06-2.06.94zm-11 1L8.5 8.5l.94-2.06 2.06-.94-2.06-.94L8.5 2.5l-.94 2.06-2.06.94zm10 10l.94 2.06.94-2.06 2.06-.94-2.06-.94-.94-2.06-.94 2.06-2.06.94z\"/><path d=\"M17.41 7.96l-1.37-1.37c-.4-.4-.92-.59-1.43-.59-.52 0-1.04.2-1.43.59L10.3 9.45l-7.72 7.72c-.78.78-.78 2.05 0 2.83L4 21.41c.39.39.9.59 1.41.59.51 0 1.02-.2 1.41-.59l7.78-7.78 2.81-2.81c.8-.78.8-2.07 0-2.86zM5.41 20L4 18.59l7.72-7.72 1.47 1.35L5.41 20z\"/>\n",
              "  </svg>\n",
              "      </button>\n",
              "      \n",
              "  <style>\n",
              "    .colab-df-container {\n",
              "      display:flex;\n",
              "      flex-wrap:wrap;\n",
              "      gap: 12px;\n",
              "    }\n",
              "\n",
              "    .colab-df-convert {\n",
              "      background-color: #E8F0FE;\n",
              "      border: none;\n",
              "      border-radius: 50%;\n",
              "      cursor: pointer;\n",
              "      display: none;\n",
              "      fill: #1967D2;\n",
              "      height: 32px;\n",
              "      padding: 0 0 0 0;\n",
              "      width: 32px;\n",
              "    }\n",
              "\n",
              "    .colab-df-convert:hover {\n",
              "      background-color: #E2EBFA;\n",
              "      box-shadow: 0px 1px 2px rgba(60, 64, 67, 0.3), 0px 1px 3px 1px rgba(60, 64, 67, 0.15);\n",
              "      fill: #174EA6;\n",
              "    }\n",
              "\n",
              "    [theme=dark] .colab-df-convert {\n",
              "      background-color: #3B4455;\n",
              "      fill: #D2E3FC;\n",
              "    }\n",
              "\n",
              "    [theme=dark] .colab-df-convert:hover {\n",
              "      background-color: #434B5C;\n",
              "      box-shadow: 0px 1px 3px 1px rgba(0, 0, 0, 0.15);\n",
              "      filter: drop-shadow(0px 1px 2px rgba(0, 0, 0, 0.3));\n",
              "      fill: #FFFFFF;\n",
              "    }\n",
              "  </style>\n",
              "\n",
              "      <script>\n",
              "        const buttonEl =\n",
              "          document.querySelector('#df-bcf8ea14-49d8-474d-99fd-9485b9153969 button.colab-df-convert');\n",
              "        buttonEl.style.display =\n",
              "          google.colab.kernel.accessAllowed ? 'block' : 'none';\n",
              "\n",
              "        async function convertToInteractive(key) {\n",
              "          const element = document.querySelector('#df-bcf8ea14-49d8-474d-99fd-9485b9153969');\n",
              "          const dataTable =\n",
              "            await google.colab.kernel.invokeFunction('convertToInteractive',\n",
              "                                                     [key], {});\n",
              "          if (!dataTable) return;\n",
              "\n",
              "          const docLinkHtml = 'Like what you see? Visit the ' +\n",
              "            '<a target=\"_blank\" href=https://colab.research.google.com/notebooks/data_table.ipynb>data table notebook</a>'\n",
              "            + ' to learn more about interactive tables.';\n",
              "          element.innerHTML = '';\n",
              "          dataTable['output_type'] = 'display_data';\n",
              "          await google.colab.output.renderOutput(dataTable, element);\n",
              "          const docLink = document.createElement('div');\n",
              "          docLink.innerHTML = docLinkHtml;\n",
              "          element.appendChild(docLink);\n",
              "        }\n",
              "      </script>\n",
              "    </div>\n",
              "  </div>\n",
              "  "
            ],
            "text/plain": [
              "                 img1                     img2  similar\n",
              "0      068/09_068.png  068_forg/01_0124068.PNG        1\n",
              "1      068/09_068.png  068_forg/02_0124068.PNG        1\n",
              "2      068/09_068.png  068_forg/01_0113068.PNG        1\n",
              "3      068/09_068.png  068_forg/04_0124068.PNG        1\n",
              "4      068/09_068.png  068_forg/04_0113068.PNG        1\n",
              "...               ...                      ...      ...\n",
              "23200  031/02_031.png           031/03_031.png        0\n",
              "23201  031/02_031.png           031/12_031.png        0\n",
              "23202  031/02_031.png           031/11_031.png        0\n",
              "23203  031/02_031.png           031/06_031.png        0\n",
              "23204  031/02_031.png           031/07_031.png        0\n",
              "\n",
              "[23205 rows x 3 columns]"
            ]
          },
          "execution_count": 9,
          "metadata": {},
          "output_type": "execute_result"
        }
      ],
      "source": [
        "train_df"
      ]
    },
    {
      "cell_type": "code",
      "execution_count": 10,
      "metadata": {
        "colab": {
          "base_uri": "https://localhost:8080/"
        },
        "execution": {
          "iopub.execute_input": "2023-01-09T05:52:50.352505Z",
          "iopub.status.busy": "2023-01-09T05:52:50.351383Z",
          "iopub.status.idle": "2023-01-09T05:52:50.364445Z",
          "shell.execute_reply": "2023-01-09T05:52:50.363371Z",
          "shell.execute_reply.started": "2023-01-09T05:52:50.352460Z"
        },
        "id": "UT8-2I3LxHW3",
        "outputId": "e649b1bf-0726-4c07-8b5c-4fb56654951a",
        "trusted": true
      },
      "outputs": [
        {
          "data": {
            "text/plain": [
              "0        068/09_068.png\n",
              "1        068/09_068.png\n",
              "2        068/09_068.png\n",
              "3        068/09_068.png\n",
              "4        068/09_068.png\n",
              "              ...      \n",
              "23200    031/02_031.png\n",
              "23201    031/02_031.png\n",
              "23202    031/02_031.png\n",
              "23203    031/02_031.png\n",
              "23204    031/02_031.png\n",
              "Name: img1, Length: 23205, dtype: object"
            ]
          },
          "execution_count": 10,
          "metadata": {},
          "output_type": "execute_result"
        }
      ],
      "source": [
        "train_df[\"img1\"]"
      ]
    },
    {
      "cell_type": "code",
      "execution_count": 11,
      "metadata": {
        "colab": {
          "base_uri": "https://localhost:8080/"
        },
        "execution": {
          "iopub.execute_input": "2023-01-09T05:52:52.263678Z",
          "iopub.status.busy": "2023-01-09T05:52:52.263293Z",
          "iopub.status.idle": "2023-01-09T05:52:52.269334Z",
          "shell.execute_reply": "2023-01-09T05:52:52.268239Z",
          "shell.execute_reply.started": "2023-01-09T05:52:52.263631Z"
        },
        "id": "riQ1Zj8xxbPV",
        "outputId": "aa798a90-a92e-4d68-97cb-764c9e48dfb1",
        "trusted": true
      },
      "outputs": [
        {
          "name": "stdout",
          "output_type": "stream",
          "text": [
            "23205\n"
          ]
        }
      ],
      "source": [
        "print(len(train_df[\"img1\"]))"
      ]
    },
    {
      "cell_type": "code",
      "execution_count": 12,
      "metadata": {
        "execution": {
          "iopub.execute_input": "2023-01-09T05:52:52.583203Z",
          "iopub.status.busy": "2023-01-09T05:52:52.582834Z",
          "iopub.status.idle": "2023-01-09T05:52:52.589051Z",
          "shell.execute_reply": "2023-01-09T05:52:52.587978Z",
          "shell.execute_reply.started": "2023-01-09T05:52:52.583174Z"
        },
        "id": "Gj-iLYMkBXVX",
        "trusted": true
      },
      "outputs": [],
      "source": [
        "train_path = \"/content/sign_data/train\"\n",
        "test_path = \"/content/sign_data/test\""
      ]
    },
    {
      "cell_type": "code",
      "execution_count": 13,
      "metadata": {
        "colab": {
          "base_uri": "https://localhost:8080/",
          "height": 286
        },
        "execution": {
          "iopub.execute_input": "2023-01-09T05:52:58.127563Z",
          "iopub.status.busy": "2023-01-09T05:52:58.127200Z",
          "iopub.status.idle": "2023-01-09T05:52:59.161556Z",
          "shell.execute_reply": "2023-01-09T05:52:59.160533Z",
          "shell.execute_reply.started": "2023-01-09T05:52:58.127533Z"
        },
        "id": "55WONHhoA9hn",
        "outputId": "261db559-0e27-4c5c-b063-aed9e6014fb4",
        "trusted": true
      },
      "outputs": [
        {
          "data": {
            "text/plain": [
              "<matplotlib.image.AxesImage at 0x7fab05179e80>"
            ]
          },
          "execution_count": 13,
          "metadata": {},
          "output_type": "execute_result"
        },
        {
          "data": {
            "image/png": "[encoded data removed]",
            "text/plain": [
              "<Figure size 432x288 with 1 Axes>"
            ]
          },
          "metadata": {
            "needs_background": "light"
          },
          "output_type": "display_data"
        }
      ],
      "source": [
        "from skimage.io import imread, imshow\n",
        "from skimage.transform import resize\n",
        "\n",
        "imgr = imread(os.path.join(train_path,train_df[\"img1\"][0]))\n",
        "imgr=resize(imgr,(224,224,3))\n",
        "plt.imshow(imgr)"
      ]
    },
    {
      "cell_type": "code",
      "execution_count": 14,
      "metadata": {
        "execution": {
          "iopub.execute_input": "2023-01-09T05:53:00.983413Z",
          "iopub.status.busy": "2023-01-09T05:53:00.983056Z",
          "iopub.status.idle": "2023-01-09T05:53:00.995491Z",
          "shell.execute_reply": "2023-01-09T05:53:00.994517Z",
          "shell.execute_reply.started": "2023-01-09T05:53:00.983384Z"
        },
        "id": "1Kotnr-vLZV-",
        "trusted": true
      },
      "outputs": [],
      "source": [
        "from skimage.io import imread\n",
        "from skimage.transform import resize\n",
        "\n",
        "\n",
        "# Here, `x_set` is list of path to the images\n",
        "# and `y_set` are the associated classes.\n",
        "\n",
        "class TrainDataSequence(tf.keras.utils.Sequence):\n",
        "\n",
        "    def __init__(self, x_set1, x_set2, y_set, batch_size):\n",
        "        self.x1, self.x2, self.y = x_set1, x_set2, y_set\n",
        "        self.batch_size = batch_size\n",
        "        self.train_path = \"/content/sign_data/train\"\n",
        "\n",
        "\n",
        "    def __len__(self):\n",
        "        return math.ceil(len(self.x1) / self.batch_size)\n",
        "\n",
        "    def __getitem__(self, idx):\n",
        "        batch_x1 = self.x1[idx * self.batch_size:(idx + 1) *\n",
        "        self.batch_size]\n",
        "        batch_x2 = self.x2[idx * self.batch_size:(idx + 1) *\n",
        "        self.batch_size]\n",
        "        batch_y = self.y[idx * self.batch_size:(idx + 1) *\n",
        "        self.batch_size]\n",
        "        X1 = []\n",
        "        X2 = []\n",
        "        for file_name1, file_name2 in zip(batch_x1, batch_x2):\n",
        "                  f1 = resize(imread(os.path.join(self.train_path,file_name1)), (224, 224,3))\n",
        "                  f2 = resize(imread(os.path.join(self.train_path,file_name2)), (224, 224,3))\n",
        "                  X1.append(f1)\n",
        "                  X2.append(f2)\n",
        "\n",
        "        return [np.array(X1), np.array(X2)], np.array(batch_y)\n"
      ]
    },
    {
      "cell_type": "code",
      "execution_count": 15,
      "metadata": {
        "execution": {
          "iopub.execute_input": "2023-01-09T05:53:04.100145Z",
          "iopub.status.busy": "2023-01-09T05:53:04.099772Z",
          "iopub.status.idle": "2023-01-09T05:53:04.111623Z",
          "shell.execute_reply": "2023-01-09T05:53:04.110238Z",
          "shell.execute_reply.started": "2023-01-09T05:53:04.100115Z"
        },
        "id": "0LM-NYnsAGjj",
        "trusted": true
      },
      "outputs": [],
      "source": [
        "\n",
        "class TestDataSequence(tf.keras.utils.Sequence):\n",
        "\n",
        "    def __init__(self, x_set1, x_set2, y_set, batch_size):\n",
        "        self.x1, self.x2, self.y = x_set1, x_set2, y_set\n",
        "        self.batch_size = batch_size\n",
        "        self.test_path = \"/content/sign_data/test\"\n",
        "\n",
        "\n",
        "\n",
        "    def __len__(self):\n",
        "        return math.ceil(len(self.x1) / self.batch_size)\n",
        "\n",
        "    def __getitem__(self, idx):\n",
        "        batch_x1 = self.x1[idx * self.batch_size:(idx + 1) *\n",
        "        self.batch_size]\n",
        "        batch_x2 = self.x2[idx * self.batch_size:(idx + 1) *\n",
        "        self.batch_size]\n",
        "        batch_y = self.y[idx * self.batch_size:(idx + 1) *\n",
        "        self.batch_size]\n",
        "        X1 = []\n",
        "        X2 = []\n",
        "        for file_name1, file_name2 in zip(batch_x1, batch_x2):\n",
        "                  f1 = resize(imread(os.path.join(self.test_path,file_name1)), (224, 224,3))\n",
        "                  f2 = resize(imread(os.path.join(self.test_path,file_name2)), (224, 224,3))\n",
        "                  X1.append(f1)\n",
        "                  X2.append(f2)\n",
        "        return [np.array(X1), np.array(X2)], np.array(batch_y)\n"
      ]
    },
    {
      "cell_type": "code",
      "execution_count": 16,
      "metadata": {
        "execution": {
          "iopub.execute_input": "2023-01-09T05:53:06.653306Z",
          "iopub.status.busy": "2023-01-09T05:53:06.652584Z",
          "iopub.status.idle": "2023-01-09T05:53:06.658911Z",
          "shell.execute_reply": "2023-01-09T05:53:06.657929Z",
          "shell.execute_reply.started": "2023-01-09T05:53:06.653270Z"
        },
        "id": "Uazh8r-9sDga",
        "trusted": true
      },
      "outputs": [],
      "source": [
        "def euclidean_distance(vectors):\n",
        "    # unpack the vectors into separate lists\n",
        "    (featsA, featsB) = vectors\n",
        "    # compute the sum of squared distances between the vectors\n",
        "    sumSquared = K.sum(K.square(featsA - featsB), axis=1,keepdims=True)\n",
        "    # return the euclidean distance between the vectors\n",
        "    return K.sqrt(K.maximum(sumSquared, K.epsilon()))"
      ]
    },
    {
      "cell_type": "code",
      "execution_count": 17,
      "metadata": {
        "execution": {
          "iopub.execute_input": "2023-01-09T05:53:08.552223Z",
          "iopub.status.busy": "2023-01-09T05:53:08.551515Z",
          "iopub.status.idle": "2023-01-09T05:53:08.560947Z",
          "shell.execute_reply": "2023-01-09T05:53:08.557740Z",
          "shell.execute_reply.started": "2023-01-09T05:53:08.552189Z"
        },
        "id": "6TYBedVuRf9v",
        "trusted": true
      },
      "outputs": [],
      "source": [
        "def contrastive_loss(y, preds, margin=1):\n",
        "    # explicitly cast the true class label data type to the predicted\n",
        "    # class label data type (otherwise we run the risk of having two\n",
        "    # separate data types, causing TensorFlow to error out)\n",
        "    y = tf.cast(y, preds.dtype)\n",
        "    # calculate the contrastive loss between the true labels and\n",
        "    # the predicted labels\n",
        "    squaredPreds = K.square(preds)\n",
        "    squaredMargin = K.square(K.maximum(margin - preds, 0))\n",
        "    loss = K.mean(y * squaredPreds + (1 - y) * squaredMargin)\n",
        "    # return the computed contrastive loss to the calling function\n",
        "    return loss"
      ]
    },
    {
      "cell_type": "code",
      "execution_count": 19,
      "metadata": {
        "execution": {
          "iopub.execute_input": "2023-01-09T09:33:36.229349Z",
          "iopub.status.busy": "2023-01-09T09:33:36.228580Z",
          "iopub.status.idle": "2023-01-09T09:33:36.235452Z",
          "shell.execute_reply": "2023-01-09T09:33:36.234479Z",
          "shell.execute_reply.started": "2023-01-09T09:33:36.229313Z"
        },
        "id": "22TPDwIWkWd7",
        "trusted": true
      },
      "outputs": [],
      "source": [
        "def extractor_model(input_shape):\n",
        "\n",
        "    vgg_16 = VGG16(include_top=False, weights='imagenet', input_shape=input_shape)\n",
        "    vgg_16.trainable = False\n",
        "    x = vgg_16.output\n",
        "    x = Flatten(name=\"flatten\")(x)\n",
        "    output_layer = Dense(128, activation='relu')(x)\n",
        "    model = Model(inputs=vgg_16.input, outputs=output_layer)\n",
        "    \n",
        "    return model"
      ]
    },
    {
      "cell_type": "code",
      "execution_count": 20,
      "metadata": {
        "execution": {
          "iopub.execute_input": "2023-01-09T09:33:39.792374Z",
          "iopub.status.busy": "2023-01-09T09:33:39.791680Z",
          "iopub.status.idle": "2023-01-09T09:33:39.803851Z",
          "shell.execute_reply": "2023-01-09T09:33:39.802792Z",
          "shell.execute_reply.started": "2023-01-09T09:33:39.792332Z"
        },
        "id": "G4PMqTJ9nJt_",
        "trusted": true
      },
      "outputs": [],
      "source": [
        "def create_model(input_shape):\n",
        "  base_model = extractor_model(input_shape)\n",
        "  print(base_model.summary())\n",
        "  input_a = Input(shape=input_shape)\n",
        "  input_b = Input(shape=input_shape)\n",
        "  feat_1 = base_model(input_a)\n",
        "  feat_2 = base_model(input_b)\n",
        "  distance = Lambda(euclidean_distance)([feat_1, feat_2])\n",
        "  outputs = Dense(1, activation=\"sigmoid\")(distance)\n",
        "\n",
        "  model = Model([input_a, input_b], outputs=outputs)\n",
        "  return model"
      ]
    },
    {
      "cell_type": "code",
      "execution_count": 21,
      "metadata": {
        "colab": {
          "base_uri": "https://localhost:8080/"
        },
        "execution": {
          "iopub.execute_input": "2023-01-09T09:33:41.843859Z",
          "iopub.status.busy": "2023-01-09T09:33:41.843480Z",
          "iopub.status.idle": "2023-01-09T09:33:42.246386Z",
          "shell.execute_reply": "2023-01-09T09:33:42.245348Z",
          "shell.execute_reply.started": "2023-01-09T09:33:41.843827Z"
        },
        "id": "LQzAC8aVsY7r",
        "outputId": "2ba286d9-4e58-44df-a3b7-3e355e39f790",
        "trusted": true
      },
      "outputs": [
        {
          "name": "stdout",
          "output_type": "stream",
          "text": [
            "(224, 224, 3)\n",
            "Downloading data from https://storage.googleapis.com/tensorflow/keras-applications/vgg16/vgg16_weights_tf_dim_ordering_tf_kernels_notop.h5\n",
            "58889256/58889256 [==============================] - 0s 0us/step\n",
            "Model: \"model\"\n",
            "_________________________________________________________________\n",
            " Layer (type)                Output Shape              Param #   \n",
            "=================================================================\n",
            " input_1 (InputLayer)        [(None, 224, 224, 3)]     0         \n",
            "                                                                 \n",
            " block1_conv1 (Conv2D)       (None, 224, 224, 64)      1792      \n",
            "                                                                 \n",
            " block1_conv2 (Conv2D)       (None, 224, 224, 64)      36928     \n",
            "                                                                 \n",
            " block1_pool (MaxPooling2D)  (None, 112, 112, 64)      0         \n",
            "                                                                 \n",
            " block2_conv1 (Conv2D)       (None, 112, 112, 128)     73856     \n",
            "                                                                 \n",
            " block2_conv2 (Conv2D)       (None, 112, 112, 128)     147584    \n",
            "                                                                 \n",
            " block2_pool (MaxPooling2D)  (None, 56, 56, 128)       0         \n",
            "                                                                 \n",
            " block3_conv1 (Conv2D)       (None, 56, 56, 256)       295168    \n",
            "                                                                 \n",
            " block3_conv2 (Conv2D)       (None, 56, 56, 256)       590080    \n",
            "                                                                 \n",
            " block3_conv3 (Conv2D)       (None, 56, 56, 256)       590080    \n",
            "                                                                 \n",
            " block3_pool (MaxPooling2D)  (None, 28, 28, 256)       0         \n",
            "                                                                 \n",
            " block4_conv1 (Conv2D)       (None, 28, 28, 512)       1180160   \n",
            "                                                                 \n",
            " block4_conv2 (Conv2D)       (None, 28, 28, 512)       2359808   \n",
            "                                                                 \n",
            " block4_conv3 (Conv2D)       (None, 28, 28, 512)       2359808   \n",
            "                                                                 \n",
            " block4_pool (MaxPooling2D)  (None, 14, 14, 512)       0         \n",
            "                                                                 \n",
            " block5_conv1 (Conv2D)       (None, 14, 14, 512)       2359808   \n",
            "                                                                 \n",
            " block5_conv2 (Conv2D)       (None, 14, 14, 512)       2359808   \n",
            "                                                                 \n",
            " block5_conv3 (Conv2D)       (None, 14, 14, 512)       2359808   \n",
            "                                                                 \n",
            " block5_pool (MaxPooling2D)  (None, 7, 7, 512)         0         \n",
            "                                                                 \n",
            " flatten (Flatten)           (None, 25088)             0         \n",
            "                                                                 \n",
            " dense (Dense)               (None, 128)               3211392   \n",
            "                                                                 \n",
            "=================================================================\n",
            "Total params: 17,926,080\n",
            "Trainable params: 3,211,392\n",
            "Non-trainable params: 14,714,688\n",
            "_________________________________________________________________\n",
            "None\n",
            "Model: \"model_1\"\n",
            "__________________________________________________________________________________________________\n",
            " Layer (type)                   Output Shape         Param #     Connected to                     \n",
            "==================================================================================================\n",
            " input_2 (InputLayer)           [(None, 224, 224, 3  0           []                               \n",
            "                                )]                                                                \n",
            "                                                                                                  \n",
            " input_3 (InputLayer)           [(None, 224, 224, 3  0           []                               \n",
            "                                )]                                                                \n",
            "                                                                                                  \n",
            " model (Functional)             (None, 128)          17926080    ['input_2[0][0]',                \n",
            "                                                                  'input_3[0][0]']                \n",
            "                                                                                                  \n",
            " lambda (Lambda)                (None, 1)            0           ['model[0][0]',                  \n",
            "                                                                  'model[1][0]']                  \n",
            "                                                                                                  \n",
            " dense_1 (Dense)                (None, 1)            2           ['lambda[0][0]']                 \n",
            "                                                                                                  \n",
            "==================================================================================================\n",
            "Total params: 17,926,082\n",
            "Trainable params: 3,211,394\n",
            "Non-trainable params: 14,714,688\n",
            "__________________________________________________________________________________________________\n",
            "None\n",
            "[INFO] compiling model...\n"
          ]
        }
      ],
      "source": [
        "input_shape = (224, 224, 3)\n",
        "optimzer = Adam(learning_rate=0.001)\n",
        "BATCH_SIZE = 32\n",
        "\n",
        "model = create_model(input_shape)\n",
        "print(model.summary())\n",
        "\n",
        "print(\"[INFO] compiling model...\")\n",
        "model.compile(loss=\"binary_crossentropy\", optimizer=optimzer, metrics=[\"accuracy\"])\n"
      ]
    },
    {
      "cell_type": "code",
      "execution_count": null,
      "metadata": {
        "execution": {
          "iopub.execute_input": "2023-01-09T09:33:45.292622Z",
          "iopub.status.busy": "2023-01-09T09:33:45.291368Z",
          "iopub.status.idle": "2023-01-09T11:19:00.341892Z",
          "shell.execute_reply": "2023-01-09T11:19:00.340968Z",
          "shell.execute_reply.started": "2023-01-09T09:33:45.292577Z"
        },
        "id": "rqfk1GPL8hOB",
        "outputId": "5c4313f5-ef66-4dd9-f51b-c4966c1d121a",
        "trusted": true
      },
      "outputs": [
        {
          "name": "stdout",
          "output_type": "stream",
          "text": [
            "Epoch 1/5\n",
            "726/726 [==============================] - 1263s 2s/step - loss: 1.3472 - accuracy: 0.5052 - val_loss: 0.8188 - val_accuracy: 0.5951\n",
            "Epoch 2/5\n",
            "726/726 [==============================] - 1258s 2s/step - loss: 0.6165 - accuracy: 0.6671 - val_loss: 0.3810 - val_accuracy: 0.8251\n",
            "Epoch 3/5\n",
            "726/726 [==============================] - 1259s 2s/step - loss: 0.3357 - accuracy: 0.8906 - val_loss: 0.2437 - val_accuracy: 0.9617\n",
            "Epoch 4/5\n",
            "726/726 [==============================] - 1262s 2s/step - loss: 0.2268 - accuracy: 0.9743 - val_loss: 0.1763 - val_accuracy: 0.9911\n",
            "Epoch 5/5\n",
            "726/726 [==============================] - 1273s 2s/step - loss: 0.1647 - accuracy: 0.9916 - val_loss: 0.1301 - val_accuracy: 0.9977\n"
          ]
        }
      ],
      "source": [
        "train_sequence =  TrainDataSequence(train_df['img1'], train_df['img2'], train_df[\"similar\"], batch_size = 32)\n",
        "test_sequence =  TestDataSequence(test_df['img1'], test_df['img2'], test_df[\"similar\"], batch_size = 32)\n",
        "\n",
        "\n",
        "history = model.fit(train_sequence,validation_data = test_sequence, epochs = 5, verbose=1)"
      ]
    },
    {
      "cell_type": "code",
      "execution_count": null,
      "metadata": {
        "execution": {
          "iopub.execute_input": "2023-01-09T11:34:59.381440Z",
          "iopub.status.busy": "2023-01-09T11:34:59.381067Z",
          "iopub.status.idle": "2023-01-09T11:34:59.543365Z",
          "shell.execute_reply": "2023-01-09T11:34:59.542333Z",
          "shell.execute_reply.started": "2023-01-09T11:34:59.381410Z"
        },
        "id": "wHCfg78DRf94",
        "trusted": true
      },
      "outputs": [],
      "source": [
        "model.save('signature_verification_Siamese.h5')"
      ]
    },
    {
      "cell_type": "code",
      "execution_count": null,
      "metadata": {
        "execution": {
          "iopub.execute_input": "2023-01-09T11:50:51.947550Z",
          "iopub.status.busy": "2023-01-09T11:50:51.947183Z",
          "iopub.status.idle": "2023-01-09T11:50:52.199526Z",
          "shell.execute_reply": "2023-01-09T11:50:52.198613Z",
          "shell.execute_reply.started": "2023-01-09T11:50:51.947519Z"
        },
        "id": "gev8T6aVRf95",
        "outputId": "f9d76833-2cc4-4ac5-d06f-bb4f266a2771",
        "trusted": true
      },
      "outputs": [
        {
          "data": {
            "image/png": "[encoded data removed]",
            "text/plain": [
              "<Figure size 432x288 with 1 Axes>"
            ]
          },
          "metadata": {
            "needs_background": "light"
          },
          "output_type": "display_data"
        }
      ],
      "source": [
        "import matplotlib.pyplot as plt\n",
        "\n",
        "acc = history.history['accuracy']\n",
        "val_acc = history.history['val_accuracy']\n",
        "loss = history.history['loss']\n",
        "val_loss = history.history['val_loss']\n",
        "\n",
        "\n",
        "epochs = range(1, len(acc) + 1)\n",
        "\n",
        "plt.plot(epochs, acc, 'b', label='Training acc')\n",
        "plt.plot(epochs, val_acc, 'y', label='Validation acc')\n",
        "plt.title('Training and validation accuracy')\n",
        "plt.legend()\n",
        "\n",
        "plt.savefig(\"accuracy3.jpg\")\n",
        "plt.show()"
      ]
    },
    {
      "cell_type": "code",
      "execution_count": null,
      "metadata": {
        "execution": {
          "iopub.execute_input": "2023-01-09T11:48:56.109610Z",
          "iopub.status.busy": "2023-01-09T11:48:56.108636Z",
          "iopub.status.idle": "2023-01-09T11:48:56.367537Z",
          "shell.execute_reply": "2023-01-09T11:48:56.366587Z",
          "shell.execute_reply.started": "2023-01-09T11:48:56.109576Z"
        },
        "id": "KVIbvuc-FQMr",
        "outputId": "233fbb27-05bc-44bf-81af-f66cf4f1e24b",
        "trusted": true
      },
      "outputs": [
        {
          "data": {
            "image/png": "[encoded data removed]",
            "text/plain": [
              "<Figure size 432x288 with 1 Axes>"
            ]
          },
          "metadata": {
            "needs_background": "light"
          },
          "output_type": "display_data"
        }
      ],
      "source": [
        "plt.plot(epochs, loss, 'b', label='Training loss')\n",
        "plt.plot(epochs, val_loss, 'y', label='Validation loss')\n",
        "plt.title('Training and validation loss')\n",
        "plt.legend()\n",
        "plt.savefig(\"loss.jpg\")\n",
        "\n",
        "plt.show()"
      ]
    },
    {
      "cell_type": "code",
      "execution_count": null,
      "metadata": {
        "id": "p5giu2LtUGzV",
        "trusted": true
      },
      "outputs": [],
      "source": []
    },
    {
      "cell_type": "code",
      "execution_count": null,
      "metadata": {
        "id": "then00HqaLjD"
      },
      "outputs": [],
      "source": []
    }
  ],
  "metadata": {
    "accelerator": "GPU",
    "colab": {
      "provenance": []
    },
    "gpuClass": "standard",
    "kernelspec": {
      "display_name": "Python 3",
      "language": "python",
      "name": "python3"
    },
    "language_info": {
      "codemirror_mode": {
        "name": "ipython",
        "version": 3
      },
      "file_extension": ".py",
      "mimetype": "text/x-python",
      "name": "python",
      "nbconvert_exporter": "python",
      "pygments_lexer": "ipython3",
      "version": "3.7.12"
    }
  },
  "nbformat": 4,
  "nbformat_minor": 0
}
