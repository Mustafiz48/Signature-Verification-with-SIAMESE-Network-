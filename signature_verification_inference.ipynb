{
  "metadata": {
    "colab": {
      "provenance": []
    },
    "kernelspec": {
      "name": "python3",
      "display_name": "Python 3",
      "language": "python"
    },
    "language_info": {
      "name": "python",
      "version": "3.7.12",
      "mimetype": "text/x-python",
      "codemirror_mode": {
        "name": "ipython",
        "version": 3
      },
      "pygments_lexer": "ipython3",
      "nbconvert_exporter": "python",
      "file_extension": ".py"
    },
    "accelerator": "GPU",
    "gpuClass": "standard"
  },
  "nbformat_minor": 0,
  "nbformat": 4,
  "cells": [
    {
      "cell_type": "code",
      "source": [
        "from google.colab import drive\n",
        "drive.mount('/content/drive')"
      ],
      "metadata": {
        "colab": {
          "base_uri": "https://localhost:8080/"
        },
        "id": "Ur3O53OJiYNX",
        "outputId": "84304513-565b-4504-96f9-352ba4db3581"
      },
      "execution_count": 1,
      "outputs": [
        {
          "output_type": "stream",
          "name": "stdout",
          "text": [
            "Mounted at /content/drive\n"
          ]
        }
      ]
    },
    {
      "cell_type": "code",
      "source": [
        "!cp -r \"/content/drive/MyDrive/signature_verification_dataset/sign_data\" -d \"/content/\""
      ],
      "metadata": {
        "id": "iltPmiNgjk5z"
      },
      "execution_count": 2,
      "outputs": []
    },
    {
      "cell_type": "code",
      "source": [
        "!cp -r \"/content/drive/MyDrive/signature_verification_dataset/my_model.h5\" -d \"/content/\""
      ],
      "metadata": {
        "id": "O18NeVleR_mD"
      },
      "execution_count": 3,
      "outputs": []
    },
    {
      "cell_type": "code",
      "source": [
        "import os\n",
        "import sys\n",
        "\n",
        "import numpy as np\n",
        "import pandas as pd\n",
        "from PIL import Image\n",
        "from pathlib import Path\n",
        "import matplotlib.pyplot as plt"
      ],
      "metadata": {
        "id": "fLmPguTykAbU",
        "execution": {
          "iopub.status.busy": "2023-01-09T05:52:30.317268Z",
          "iopub.execute_input": "2023-01-09T05:52:30.317911Z",
          "iopub.status.idle": "2023-01-09T05:52:30.531649Z",
          "shell.execute_reply.started": "2023-01-09T05:52:30.317794Z",
          "shell.execute_reply": "2023-01-09T05:52:30.530699Z"
        },
        "trusted": true
      },
      "execution_count": 4,
      "outputs": []
    },
    {
      "cell_type": "code",
      "source": [
        "import tensorflow as tf\n",
        "import tensorflow.keras.backend as K\n",
        "\n",
        "from tensorflow.keras import Input\n",
        "from tensorflow.keras.layers import Lambda\n",
        "from tensorflow.keras.optimizers import Adam\n",
        "\n",
        "from keras.models import Model\n",
        "from keras.preprocessing import image\n",
        "from keras.models import Sequential, Model\n",
        "from keras.layers import Dense, Dropout, Flatten\n",
        "from keras.applications.vgg16 import VGG16, preprocess_input\n",
        "\n"
      ],
      "metadata": {
        "id": "J6ttkkgSjv6V",
        "execution": {
          "iopub.status.busy": "2023-01-09T05:56:48.730716Z",
          "iopub.execute_input": "2023-01-09T05:56:48.731722Z",
          "iopub.status.idle": "2023-01-09T05:56:48.740285Z",
          "shell.execute_reply.started": "2023-01-09T05:56:48.731648Z",
          "shell.execute_reply": "2023-01-09T05:56:48.739331Z"
        },
        "trusted": true
      },
      "execution_count": 5,
      "outputs": []
    },
    {
      "cell_type": "code",
      "source": [
        "def euclidean_distance(vectors):\n",
        "    # unpack the vectors into separate lists\n",
        "    (featsA, featsB) = vectors\n",
        "    # compute the sum of squared distances between the vectors\n",
        "    sumSquared = K.sum(K.square(featsA - featsB), axis=1,keepdims=True)\n",
        "    # return the euclidean distance between the vectors\n",
        "    return K.sqrt(K.maximum(sumSquared, K.epsilon()))"
      ],
      "metadata": {
        "id": "Uazh8r-9sDga",
        "execution": {
          "iopub.status.busy": "2023-01-09T05:53:06.652584Z",
          "iopub.execute_input": "2023-01-09T05:53:06.653306Z",
          "iopub.status.idle": "2023-01-09T05:53:06.658911Z",
          "shell.execute_reply.started": "2023-01-09T05:53:06.653270Z",
          "shell.execute_reply": "2023-01-09T05:53:06.657929Z"
        },
        "trusted": true
      },
      "execution_count": 6,
      "outputs": []
    },
    {
      "cell_type": "code",
      "source": [
        "def contrastive_loss(y, preds, margin=1):\n",
        "    # explicitly cast the true class label data type to the predicted\n",
        "    # class label data type (otherwise we run the risk of having two\n",
        "    # separate data types, causing TensorFlow to error out)\n",
        "    y = tf.cast(y, preds.dtype)\n",
        "    # calculate the contrastive loss between the true labels and\n",
        "    # the predicted labels\n",
        "    squaredPreds = K.square(preds)\n",
        "    squaredMargin = K.square(K.maximum(margin - preds, 0))\n",
        "    loss = K.mean(y * squaredPreds + (1 - y) * squaredMargin)\n",
        "    # return the computed contrastive loss to the calling function\n",
        "    return loss"
      ],
      "metadata": {
        "execution": {
          "iopub.status.busy": "2023-01-09T05:53:08.551515Z",
          "iopub.execute_input": "2023-01-09T05:53:08.552223Z",
          "iopub.status.idle": "2023-01-09T05:53:08.560947Z",
          "shell.execute_reply.started": "2023-01-09T05:53:08.552189Z",
          "shell.execute_reply": "2023-01-09T05:53:08.557740Z"
        },
        "trusted": true,
        "id": "6TYBedVuRf9v"
      },
      "execution_count": 7,
      "outputs": []
    },
    {
      "cell_type": "code",
      "source": [
        "def extractor_model(input_shape):\n",
        "\n",
        "    vgg_16 = VGG16(include_top=False, weights='imagenet', input_shape=input_shape)\n",
        "    vgg_16.trainable = False\n",
        "    x = vgg_16.output\n",
        "    x = Flatten(name=\"flatten\")(x)\n",
        "    output_layer = Dense(128, activation='relu')(x)\n",
        "    model = Model(inputs=vgg_16.input, outputs=output_layer)\n",
        "    \n",
        "    return model"
      ],
      "metadata": {
        "id": "22TPDwIWkWd7",
        "execution": {
          "iopub.status.busy": "2023-01-09T09:33:36.228580Z",
          "iopub.execute_input": "2023-01-09T09:33:36.229349Z",
          "iopub.status.idle": "2023-01-09T09:33:36.235452Z",
          "shell.execute_reply.started": "2023-01-09T09:33:36.229313Z",
          "shell.execute_reply": "2023-01-09T09:33:36.234479Z"
        },
        "trusted": true
      },
      "execution_count": 8,
      "outputs": []
    },
    {
      "cell_type": "code",
      "source": [
        "def create_model(input_shape):\n",
        "  base_model = extractor_model(input_shape)\n",
        "  print(base_model.summary())\n",
        "  input_a = Input(shape=input_shape)\n",
        "  input_b = Input(shape=input_shape)\n",
        "  feat_1 = base_model(input_a)\n",
        "  feat_2 = base_model(input_b)\n",
        "  distance = Lambda(euclidean_distance)([feat_1, feat_2])\n",
        "  outputs = Dense(1, activation=\"sigmoid\")(distance)\n",
        "\n",
        "  model = Model([input_a, input_b], outputs=outputs)\n",
        "  return model"
      ],
      "metadata": {
        "id": "G4PMqTJ9nJt_",
        "execution": {
          "iopub.status.busy": "2023-01-09T09:33:39.791680Z",
          "iopub.execute_input": "2023-01-09T09:33:39.792374Z",
          "iopub.status.idle": "2023-01-09T09:33:39.803851Z",
          "shell.execute_reply.started": "2023-01-09T09:33:39.792332Z",
          "shell.execute_reply": "2023-01-09T09:33:39.802792Z"
        },
        "trusted": true
      },
      "execution_count": 14,
      "outputs": []
    },
    {
      "cell_type": "code",
      "source": [
        "input_shape = (224, 224, 3)\n",
        "\n",
        "model = create_model(input_shape)\n",
        "print(model.summary())"
      ],
      "metadata": {
        "colab": {
          "base_uri": "https://localhost:8080/"
        },
        "id": "LQzAC8aVsY7r",
        "outputId": "4df41f3e-f53b-4edc-f873-144ab8db52ac",
        "execution": {
          "iopub.status.busy": "2023-01-09T09:33:41.843480Z",
          "iopub.execute_input": "2023-01-09T09:33:41.843859Z",
          "iopub.status.idle": "2023-01-09T09:33:42.246386Z",
          "shell.execute_reply.started": "2023-01-09T09:33:41.843827Z",
          "shell.execute_reply": "2023-01-09T09:33:42.245348Z"
        },
        "trusted": true
      },
      "execution_count": 15,
      "outputs": [
        {
          "output_type": "stream",
          "name": "stdout",
          "text": [
            "Model: \"model_2\"\n",
            "_________________________________________________________________\n",
            " Layer (type)                Output Shape              Param #   \n",
            "=================================================================\n",
            " input_4 (InputLayer)        [(None, 224, 224, 3)]     0         \n",
            "                                                                 \n",
            " block1_conv1 (Conv2D)       (None, 224, 224, 64)      1792      \n",
            "                                                                 \n",
            " block1_conv2 (Conv2D)       (None, 224, 224, 64)      36928     \n",
            "                                                                 \n",
            " block1_pool (MaxPooling2D)  (None, 112, 112, 64)      0         \n",
            "                                                                 \n",
            " block2_conv1 (Conv2D)       (None, 112, 112, 128)     73856     \n",
            "                                                                 \n",
            " block2_conv2 (Conv2D)       (None, 112, 112, 128)     147584    \n",
            "                                                                 \n",
            " block2_pool (MaxPooling2D)  (None, 56, 56, 128)       0         \n",
            "                                                                 \n",
            " block3_conv1 (Conv2D)       (None, 56, 56, 256)       295168    \n",
            "                                                                 \n",
            " block3_conv2 (Conv2D)       (None, 56, 56, 256)       590080    \n",
            "                                                                 \n",
            " block3_conv3 (Conv2D)       (None, 56, 56, 256)       590080    \n",
            "                                                                 \n",
            " block3_pool (MaxPooling2D)  (None, 28, 28, 256)       0         \n",
            "                                                                 \n",
            " block4_conv1 (Conv2D)       (None, 28, 28, 512)       1180160   \n",
            "                                                                 \n",
            " block4_conv2 (Conv2D)       (None, 28, 28, 512)       2359808   \n",
            "                                                                 \n",
            " block4_conv3 (Conv2D)       (None, 28, 28, 512)       2359808   \n",
            "                                                                 \n",
            " block4_pool (MaxPooling2D)  (None, 14, 14, 512)       0         \n",
            "                                                                 \n",
            " block5_conv1 (Conv2D)       (None, 14, 14, 512)       2359808   \n",
            "                                                                 \n",
            " block5_conv2 (Conv2D)       (None, 14, 14, 512)       2359808   \n",
            "                                                                 \n",
            " block5_conv3 (Conv2D)       (None, 14, 14, 512)       2359808   \n",
            "                                                                 \n",
            " block5_pool (MaxPooling2D)  (None, 7, 7, 512)         0         \n",
            "                                                                 \n",
            " flatten (Flatten)           (None, 25088)             0         \n",
            "                                                                 \n",
            " dense_2 (Dense)             (None, 128)               3211392   \n",
            "                                                                 \n",
            "=================================================================\n",
            "Total params: 17,926,080\n",
            "Trainable params: 3,211,392\n",
            "Non-trainable params: 14,714,688\n",
            "_________________________________________________________________\n",
            "None\n",
            "Model: \"model_3\"\n",
            "__________________________________________________________________________________________________\n",
            " Layer (type)                   Output Shape         Param #     Connected to                     \n",
            "==================================================================================================\n",
            " input_5 (InputLayer)           [(None, 224, 224, 3  0           []                               \n",
            "                                )]                                                                \n",
            "                                                                                                  \n",
            " input_6 (InputLayer)           [(None, 224, 224, 3  0           []                               \n",
            "                                )]                                                                \n",
            "                                                                                                  \n",
            " model_2 (Functional)           (None, 128)          17926080    ['input_5[0][0]',                \n",
            "                                                                  'input_6[0][0]']                \n",
            "                                                                                                  \n",
            " lambda_1 (Lambda)              (None, 1)            0           ['model_2[0][0]',                \n",
            "                                                                  'model_2[1][0]']                \n",
            "                                                                                                  \n",
            " dense_3 (Dense)                (None, 1)            2           ['lambda_1[0][0]']               \n",
            "                                                                                                  \n",
            "==================================================================================================\n",
            "Total params: 17,926,082\n",
            "Trainable params: 3,211,394\n",
            "Non-trainable params: 14,714,688\n",
            "__________________________________________________________________________________________________\n",
            "None\n"
          ]
        }
      ]
    },
    {
      "cell_type": "code",
      "source": [
        "model.load_weights(\"/content/my_model.h5\")"
      ],
      "metadata": {
        "id": "yHMQq5RhUEwP"
      },
      "execution_count": 11,
      "outputs": []
    },
    {
      "cell_type": "code",
      "source": [
        "from skimage.io import imread, imshow\n",
        "from skimage.transform import resize\n",
        "\n",
        "train_path = \"/content/sign_data/train\"\n",
        "test_path = \"/content/sign_data/test\"\n",
        "\n",
        "id = input(\"Enter Id Number: \")\n",
        "test_img_path = input (\"Enter Test Image Path: \")\n",
        "test_img = imread(os.path.join(test_path,test_img_path))\n",
        "test_img=resize(test_img,(224,224,3))\n",
        "test_img = np.expand_dims(test_img, axis=0)\n",
        "\n",
        "ref_path = os.path.join(test_path, id)\n",
        "ref_imgs = []\n",
        "for file in os.listdir(ref_path):\n",
        "  ref_imgs.append(os.path.join(ref_path,file))\n",
        "\n",
        "ref_img = imread(ref_imgs[0])\n",
        "ref_img=resize(ref_img,(224,224,3))\n",
        "ref_img = np.expand_dims(ref_img, axis=0)\n",
        "\n",
        "res = model.predict([np.array(ref_img), np.array(test_img)])\n",
        "val_r = res[0][0]\n",
        "print(\"Similarity Distance:\", val_r)\n",
        "if val_r >= 0.6:\n",
        "  print(\"Forged\")\n",
        "elif val_r <= 0.4:\n",
        "    print(\"Genuin\")\n"
      ],
      "metadata": {
        "colab": {
          "base_uri": "https://localhost:8080/"
        },
        "id": "4GwC40o5S60R",
        "outputId": "53887291-69fe-42dc-dfaf-fe26c0da3f0f"
      },
      "execution_count": 13,
      "outputs": [
        {
          "output_type": "stream",
          "name": "stdout",
          "text": [
            "Enter Id Number: 068\n",
            "Enter Test Image Path: 068_forg/03_0124068.PNG\n",
            "1/1 [==============================] - 0s 35ms/step\n",
            "Similarity Distance: 0.9874607\n",
            "Forged\n"
          ]
        }
      ]
    },
    {
      "cell_type": "code",
      "source": [],
      "metadata": {
        "id": "6rS0C2LgZ_1z"
      },
      "execution_count": null,
      "outputs": []
    },
    {
      "cell_type": "code",
      "source": [],
      "metadata": {
        "id": "then00HqaLjD"
      },
      "execution_count": null,
      "outputs": []
    }
  ]
}